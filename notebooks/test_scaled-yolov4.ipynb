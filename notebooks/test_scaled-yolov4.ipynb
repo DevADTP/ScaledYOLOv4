{
 "cells": [
  {
   "cell_type": "code",
   "execution_count": 4,
   "id": "proved-cassette",
   "metadata": {},
   "outputs": [],
   "source": [
    "import torch\n",
    "import sys\n",
    "import os\n",
    "from torchvision.datasets.folder import pil_loader\n",
    "from torchvision.transforms import Normalize, Compose, RandomHorizontalFlip, RandomRotation, Resize, ToTensor, ToPILImage\n",
    "import matplotlib.pyplot as plt\n",
    "import numpy as np\n",
    "import cv2"
   ]
  },
  {
   "cell_type": "code",
   "execution_count": 5,
   "id": "wired-billion",
   "metadata": {},
   "outputs": [],
   "source": [
    "device = torch.device('cuda')"
   ]
  },
  {
   "cell_type": "code",
   "execution_count": 6,
   "id": "naughty-swift",
   "metadata": {},
   "outputs": [
    {
     "data": {
      "text/plain": [
       "device(type='cuda')"
      ]
     },
     "execution_count": 6,
     "metadata": {},
     "output_type": "execute_result"
    }
   ],
   "source": [
    "device"
   ]
  },
  {
   "cell_type": "code",
   "execution_count": 7,
   "id": "greek-plane",
   "metadata": {},
   "outputs": [],
   "source": [
    "path = os.path.abspath(os.path.join('..'))"
   ]
  },
  {
   "cell_type": "code",
   "execution_count": null,
   "id": "ambient-stone",
   "metadata": {},
   "outputs": [],
   "source": []
  },
  {
   "cell_type": "code",
   "execution_count": 8,
   "id": "palestinian-brook",
   "metadata": {},
   "outputs": [],
   "source": [
    "if path not in sys.path:\n",
    "    sys.path.append(path+\"/mish_cuda/\")"
   ]
  },
  {
   "cell_type": "code",
   "execution_count": 9,
   "id": "collaborative-inflation",
   "metadata": {},
   "outputs": [],
   "source": [
    "from mish_cuda.mish import MishCuda"
   ]
  },
  {
   "cell_type": "code",
   "execution_count": 10,
   "id": "christian-speed",
   "metadata": {},
   "outputs": [],
   "source": [
    "if path not in sys.path:\n",
    "    sys.path.append(path)"
   ]
  },
  {
   "cell_type": "code",
   "execution_count": 11,
   "id": "unlike-channel",
   "metadata": {},
   "outputs": [
    {
     "data": {
      "text/plain": [
       "['/home/adtp/github/adtp/ScaledYOLOv4/notebooks',\n",
       " '/home/adtp/anaconda3/envs/deeplearningaz/lib/python38.zip',\n",
       " '/home/adtp/anaconda3/envs/deeplearningaz/lib/python3.8',\n",
       " '/home/adtp/anaconda3/envs/deeplearningaz/lib/python3.8/lib-dynload',\n",
       " '',\n",
       " '/home/adtp/anaconda3/envs/deeplearningaz/lib/python3.8/site-packages',\n",
       " '/home/adtp/anaconda3/envs/deeplearningaz/lib/python3.8/site-packages/locket-0.2.1-py3.8.egg',\n",
       " '/home/adtp/anaconda3/envs/deeplearningaz/lib/python3.8/site-packages/IPython/extensions',\n",
       " '/home/adtp/.ipython',\n",
       " '/home/adtp/github/adtp/ScaledYOLOv4/mish_cuda/',\n",
       " '/home/adtp/github/adtp/ScaledYOLOv4']"
      ]
     },
     "execution_count": 11,
     "metadata": {},
     "output_type": "execute_result"
    }
   ],
   "source": [
    "sys.path"
   ]
  },
  {
   "cell_type": "code",
   "execution_count": 12,
   "id": "delayed-scratch",
   "metadata": {},
   "outputs": [],
   "source": [
    "import models"
   ]
  },
  {
   "cell_type": "markdown",
   "id": "transparent-commerce",
   "metadata": {},
   "source": [
    "### Turn model checkpoint into state_dict\n",
    "useful to use our Mish instead of MishCuda"
   ]
  },
  {
   "cell_type": "code",
   "execution_count": null,
   "id": "facial-portsmouth",
   "metadata": {},
   "outputs": [],
   "source": [
    "save_scaled = torch.load('yolov4-p6.pt', map_location=device)"
   ]
  },
  {
   "cell_type": "code",
   "execution_count": null,
   "id": "involved-stupid",
   "metadata": {},
   "outputs": [],
   "source": [
    "weight_scaled = save_scaled['model'].state_dict()"
   ]
  },
  {
   "cell_type": "code",
   "execution_count": null,
   "id": "clinical-bread",
   "metadata": {},
   "outputs": [],
   "source": [
    "torch.save(weight_scaled, 'yolov4-p6.pth')"
   ]
  },
  {
   "cell_type": "code",
   "execution_count": null,
   "id": "welsh-settle",
   "metadata": {},
   "outputs": [],
   "source": [
    "weights_scaled_load = torch.load('yolov4-p6.pth')"
   ]
  },
  {
   "cell_type": "code",
   "execution_count": null,
   "id": "urban-coast",
   "metadata": {},
   "outputs": [],
   "source": [
    "save_scaled['model'].load_state_dict( python detect.py --weights ../weights/yolov4-p6.pth --cfg data/coco.yaml --source ../person.jpgweights_scaled_load)"
   ]
  },
  {
   "cell_type": "code",
   "execution_count": null,
   "id": "rocky-brake",
   "metadata": {},
   "outputs": [],
   "source": []
  },
  {
   "cell_type": "markdown",
   "id": "excited-effectiveness",
   "metadata": {},
   "source": [
    "## Load model"
   ]
  },
  {
   "cell_type": "code",
   "execution_count": 13,
   "id": "plastic-tucson",
   "metadata": {},
   "outputs": [],
   "source": [
    "from models.yolo import Model"
   ]
  },
  {
   "cell_type": "code",
   "execution_count": 14,
   "id": "charged-beads",
   "metadata": {},
   "outputs": [
    {
     "name": "stdout",
     "output_type": "stream",
     "text": [
      "\n",
      "                 from  n    params  module                                  arguments                     \n",
      "  0                -1  1       928  models.common.Conv                      [3, 32, 3, 1]                 \n",
      "  1                -1  1     18560  models.common.Conv                      [32, 64, 3, 2]                \n",
      "  2                -1  1     19904  models.common.BottleneckCSP             [64, 64, 1]                   \n",
      "  3                -1  1     73984  models.common.Conv                      [64, 128, 3, 2]               \n",
      "  4                -1  1    161152  models.common.BottleneckCSP             [128, 128, 3]                 \n",
      "  5                -1  1    295424  models.common.Conv                      [128, 256, 3, 2]              \n",
      "  6                -1  1   2614016  models.common.BottleneckCSP             [256, 256, 15]                \n",
      "  7                -1  1   1180672  models.common.Conv                      [256, 512, 3, 2]              \n",
      "  8                -1  1  10438144  models.common.BottleneckCSP             [512, 512, 15]                \n",
      "  9                -1  1   4720640  models.common.Conv                      [512, 1024, 3, 2]             \n",
      " 10                -1  1  20728832  models.common.BottleneckCSP             [1024, 1024, 7]               \n",
      " 11                -1  1   9439232  models.common.Conv                      [1024, 1024, 3, 2]            \n",
      " 12                -1  1  20728832  models.common.BottleneckCSP             [1024, 1024, 7]               \n",
      " 13                -1  1   7610368  models.common.SPPCSP                    [1024, 512, 1]                \n",
      " 14                -1  1    263168  models.common.Conv                      [512, 512, 1, 1]              \n",
      " 15                -1  1         0  torch.nn.modules.upsampling.Upsample    [None, 2, 'nearest']          \n",
      " 16                -6  1    525312  models.common.Conv                      [1024, 512, 1, 1]             \n",
      " 17          [-1, -2]  1         0  models.common.Concat                    [1]                           \n",
      " 18                -1  1   9185280  models.common.BottleneckCSP2            [1024, 512, 3]                \n",
      " 19                -1  1    131584  models.common.Conv                      [512, 256, 1, 1]              \n",
      " 20                -1  1         0  torch.nn.modules.upsampling.Upsample    [None, 2, 'nearest']          \n",
      " 21               -13  1    131584  models.common.Conv                      [512, 256, 1, 1]              \n",
      " 22          [-1, -2]  1         0  models.common.Concat                    [1]                           \n",
      " 23                -1  1   2298880  models.common.BottleneckCSP2            [512, 256, 3]                 \n",
      " 24                -1  1     33024  models.common.Conv                      [256, 128, 1, 1]              \n",
      " 25                -1  1         0  torch.nn.modules.upsampling.Upsample    [None, 2, 'nearest']          \n",
      " 26               -20  1     33024  models.common.Conv                      [256, 128, 1, 1]              \n",
      " 27          [-1, -2]  1         0  models.common.Concat                    [1]                           \n",
      " 28                -1  1    576000  models.common.BottleneckCSP2            [256, 128, 3]                 \n",
      " 29                -1  1    295424  models.common.Conv                      [128, 256, 3, 1]              \n",
      " 30                -2  1    295424  models.common.Conv                      [128, 256, 3, 2]              \n",
      " 31          [-1, 23]  1         0  models.common.Concat                    [1]                           \n",
      " 32                -1  1   2298880  models.common.BottleneckCSP2            [512, 256, 3]                 \n",
      " 33                -1  1   1180672  models.common.Conv                      [256, 512, 3, 1]              \n",
      " 34                -2  1   1180672  models.common.Conv                      [256, 512, 3, 2]              \n",
      " 35          [-1, 18]  1         0  models.common.Concat                    [1]                           \n",
      " 36                -1  1   9185280  models.common.BottleneckCSP2            [1024, 512, 3]                \n",
      " 37                -1  1   4720640  models.common.Conv                      [512, 1024, 3, 1]             \n",
      " 38                -2  1   2360320  models.common.Conv                      [512, 512, 3, 2]              \n",
      " 39          [-1, 13]  1         0  models.common.Concat                    [1]                           \n",
      " 40                -1  1   9185280  models.common.BottleneckCSP2            [1024, 512, 3]                \n",
      " 41                -1  1   4720640  models.common.Conv                      [512, 1024, 3, 1]             \n",
      " 42  [29, 33, 37, 41]  1    958800  models.yolo.Detect                      [80, [[13, 17, 31, 25, 24, 51, 61, 45], [61, 45, 48, 102, 119, 96, 97, 189], [97, 189, 217, 184, 171, 384, 324, 451], [324, 451, 545, 357, 616, 618, 1024, 1024]], [256, 512, 1024, 1024]]\n",
      "Model Summary: 599 layers, 1.27591e+08 parameters, 1.27591e+08 gradients\n",
      "\n"
     ]
    }
   ],
   "source": [
    "net = Model(cfg='../models/yolov4-p6.yaml', ch=3, nc=80)"
   ]
  },
  {
   "cell_type": "code",
   "execution_count": 15,
   "id": "similar-tactics",
   "metadata": {},
   "outputs": [],
   "source": [
    "weights_scaled = torch.load('/home/adtp/github/adtp/weights/yolov4-p6.pth')"
   ]
  },
  {
   "cell_type": "code",
   "execution_count": 16,
   "id": "pleased-tenant",
   "metadata": {},
   "outputs": [
    {
     "data": {
      "text/plain": [
       "<All keys matched successfully>"
      ]
     },
     "execution_count": 16,
     "metadata": {},
     "output_type": "execute_result"
    }
   ],
   "source": [
    "net.load_state_dict(weights_scaled)"
   ]
  },
  {
   "cell_type": "code",
   "execution_count": null,
   "id": "young-africa",
   "metadata": {},
   "outputs": [],
   "source": []
  },
  {
   "cell_type": "markdown",
   "id": "civilian-context",
   "metadata": {},
   "source": [
    "## Experiment inference"
   ]
  },
  {
   "cell_type": "code",
   "execution_count": 17,
   "id": "impaired-cyprus",
   "metadata": {},
   "outputs": [],
   "source": [
    "net.to(device)\n",
    "net.eval();"
   ]
  },
  {
   "cell_type": "code",
   "execution_count": 18,
   "id": "equipped-retention",
   "metadata": {},
   "outputs": [],
   "source": [
    "# img_test = ToTensor()(Resize((416, 416))(pil_loader('bradley-cooper.png'))).unsqueeze_(0)\n",
    "# img_test = ToTensor()(Resize((800, 1280))(pil_loader('street.jpg'))).unsqueeze_(0)\n",
    "img_test = ToTensor()(Resize((416, 416))(pil_loader('/home/adtp/github/adtp/street.jpg'))).unsqueeze_(0)"
   ]
  },
  {
   "cell_type": "code",
   "execution_count": 19,
   "id": "departmental-london",
   "metadata": {},
   "outputs": [
    {
     "ename": "RuntimeError",
     "evalue": "Sizes of tensors must match except in dimension 2. Got 14 and 13 (The offending index is 0)",
     "output_type": "error",
     "traceback": [
      "\u001b[0;31m---------------------------------------------------------------------------\u001b[0m",
      "\u001b[0;31mRuntimeError\u001b[0m                              Traceback (most recent call last)",
      "\u001b[0;32m<ipython-input-19-bbe3002e74ed>\u001b[0m in \u001b[0;36m<module>\u001b[0;34m\u001b[0m\n\u001b[0;32m----> 1\u001b[0;31m \u001b[0mpred\u001b[0m \u001b[0;34m=\u001b[0m \u001b[0mnet\u001b[0m\u001b[0;34m(\u001b[0m\u001b[0mimg_test\u001b[0m\u001b[0;34m.\u001b[0m\u001b[0mto\u001b[0m\u001b[0;34m(\u001b[0m\u001b[0mdevice\u001b[0m\u001b[0;34m)\u001b[0m\u001b[0;34m)\u001b[0m\u001b[0;34m\u001b[0m\u001b[0;34m\u001b[0m\u001b[0m\n\u001b[0m",
      "\u001b[0;32m~/anaconda3/envs/deeplearningaz/lib/python3.8/site-packages/torch/nn/modules/module.py\u001b[0m in \u001b[0;36m_call_impl\u001b[0;34m(self, *input, **kwargs)\u001b[0m\n\u001b[1;32m    725\u001b[0m             \u001b[0mresult\u001b[0m \u001b[0;34m=\u001b[0m \u001b[0mself\u001b[0m\u001b[0;34m.\u001b[0m\u001b[0m_slow_forward\u001b[0m\u001b[0;34m(\u001b[0m\u001b[0;34m*\u001b[0m\u001b[0minput\u001b[0m\u001b[0;34m,\u001b[0m \u001b[0;34m**\u001b[0m\u001b[0mkwargs\u001b[0m\u001b[0;34m)\u001b[0m\u001b[0;34m\u001b[0m\u001b[0;34m\u001b[0m\u001b[0m\n\u001b[1;32m    726\u001b[0m         \u001b[0;32melse\u001b[0m\u001b[0;34m:\u001b[0m\u001b[0;34m\u001b[0m\u001b[0;34m\u001b[0m\u001b[0m\n\u001b[0;32m--> 727\u001b[0;31m             \u001b[0mresult\u001b[0m \u001b[0;34m=\u001b[0m \u001b[0mself\u001b[0m\u001b[0;34m.\u001b[0m\u001b[0mforward\u001b[0m\u001b[0;34m(\u001b[0m\u001b[0;34m*\u001b[0m\u001b[0minput\u001b[0m\u001b[0;34m,\u001b[0m \u001b[0;34m**\u001b[0m\u001b[0mkwargs\u001b[0m\u001b[0;34m)\u001b[0m\u001b[0;34m\u001b[0m\u001b[0;34m\u001b[0m\u001b[0m\n\u001b[0m\u001b[1;32m    728\u001b[0m         for hook in itertools.chain(\n\u001b[1;32m    729\u001b[0m                 \u001b[0m_global_forward_hooks\u001b[0m\u001b[0;34m.\u001b[0m\u001b[0mvalues\u001b[0m\u001b[0;34m(\u001b[0m\u001b[0;34m)\u001b[0m\u001b[0;34m,\u001b[0m\u001b[0;34m\u001b[0m\u001b[0;34m\u001b[0m\u001b[0m\n",
      "\u001b[0;32m~/github/adtp/ScaledYOLOv4/models/yolo.py\u001b[0m in \u001b[0;36mforward\u001b[0;34m(self, x, augment, profile)\u001b[0m\n\u001b[1;32m    107\u001b[0m             \u001b[0;32mreturn\u001b[0m \u001b[0mtorch\u001b[0m\u001b[0;34m.\u001b[0m\u001b[0mcat\u001b[0m\u001b[0;34m(\u001b[0m\u001b[0my\u001b[0m\u001b[0;34m,\u001b[0m \u001b[0;36m1\u001b[0m\u001b[0;34m)\u001b[0m\u001b[0;34m,\u001b[0m \u001b[0;32mNone\u001b[0m  \u001b[0;31m# augmented inference, train\u001b[0m\u001b[0;34m\u001b[0m\u001b[0;34m\u001b[0m\u001b[0m\n\u001b[1;32m    108\u001b[0m         \u001b[0;32melse\u001b[0m\u001b[0;34m:\u001b[0m\u001b[0;34m\u001b[0m\u001b[0;34m\u001b[0m\u001b[0m\n\u001b[0;32m--> 109\u001b[0;31m             \u001b[0;32mreturn\u001b[0m \u001b[0mself\u001b[0m\u001b[0;34m.\u001b[0m\u001b[0mforward_once\u001b[0m\u001b[0;34m(\u001b[0m\u001b[0mx\u001b[0m\u001b[0;34m,\u001b[0m \u001b[0mprofile\u001b[0m\u001b[0;34m)\u001b[0m  \u001b[0;31m# single-scale inference, train\u001b[0m\u001b[0;34m\u001b[0m\u001b[0;34m\u001b[0m\u001b[0m\n\u001b[0m\u001b[1;32m    110\u001b[0m \u001b[0;34m\u001b[0m\u001b[0m\n\u001b[1;32m    111\u001b[0m     \u001b[0;32mdef\u001b[0m \u001b[0mforward_once\u001b[0m\u001b[0;34m(\u001b[0m\u001b[0mself\u001b[0m\u001b[0;34m,\u001b[0m \u001b[0mx\u001b[0m\u001b[0;34m,\u001b[0m \u001b[0mprofile\u001b[0m\u001b[0;34m=\u001b[0m\u001b[0;32mFalse\u001b[0m\u001b[0;34m)\u001b[0m\u001b[0;34m:\u001b[0m\u001b[0;34m\u001b[0m\u001b[0;34m\u001b[0m\u001b[0m\n",
      "\u001b[0;32m~/github/adtp/ScaledYOLOv4/models/yolo.py\u001b[0m in \u001b[0;36mforward_once\u001b[0;34m(self, x, profile)\u001b[0m\n\u001b[1;32m    127\u001b[0m                 \u001b[0mprint\u001b[0m\u001b[0;34m(\u001b[0m\u001b[0;34m'%10.1f%10.0f%10.1fms %-40s'\u001b[0m \u001b[0;34m%\u001b[0m \u001b[0;34m(\u001b[0m\u001b[0mo\u001b[0m\u001b[0;34m,\u001b[0m \u001b[0mm\u001b[0m\u001b[0;34m.\u001b[0m\u001b[0mnp\u001b[0m\u001b[0;34m,\u001b[0m \u001b[0mdt\u001b[0m\u001b[0;34m[\u001b[0m\u001b[0;34m-\u001b[0m\u001b[0;36m1\u001b[0m\u001b[0;34m]\u001b[0m\u001b[0;34m,\u001b[0m \u001b[0mm\u001b[0m\u001b[0;34m.\u001b[0m\u001b[0mtype\u001b[0m\u001b[0;34m)\u001b[0m\u001b[0;34m)\u001b[0m\u001b[0;34m\u001b[0m\u001b[0;34m\u001b[0m\u001b[0m\n\u001b[1;32m    128\u001b[0m \u001b[0;34m\u001b[0m\u001b[0m\n\u001b[0;32m--> 129\u001b[0;31m             \u001b[0mx\u001b[0m \u001b[0;34m=\u001b[0m \u001b[0mm\u001b[0m\u001b[0;34m(\u001b[0m\u001b[0mx\u001b[0m\u001b[0;34m)\u001b[0m  \u001b[0;31m# run\u001b[0m\u001b[0;34m\u001b[0m\u001b[0;34m\u001b[0m\u001b[0m\n\u001b[0m\u001b[1;32m    130\u001b[0m             \u001b[0my\u001b[0m\u001b[0;34m.\u001b[0m\u001b[0mappend\u001b[0m\u001b[0;34m(\u001b[0m\u001b[0mx\u001b[0m \u001b[0;32mif\u001b[0m \u001b[0mm\u001b[0m\u001b[0;34m.\u001b[0m\u001b[0mi\u001b[0m \u001b[0;32min\u001b[0m \u001b[0mself\u001b[0m\u001b[0;34m.\u001b[0m\u001b[0msave\u001b[0m \u001b[0;32melse\u001b[0m \u001b[0;32mNone\u001b[0m\u001b[0;34m)\u001b[0m  \u001b[0;31m# save output\u001b[0m\u001b[0;34m\u001b[0m\u001b[0;34m\u001b[0m\u001b[0m\n\u001b[1;32m    131\u001b[0m \u001b[0;34m\u001b[0m\u001b[0m\n",
      "\u001b[0;32m~/anaconda3/envs/deeplearningaz/lib/python3.8/site-packages/torch/nn/modules/module.py\u001b[0m in \u001b[0;36m_call_impl\u001b[0;34m(self, *input, **kwargs)\u001b[0m\n\u001b[1;32m    725\u001b[0m             \u001b[0mresult\u001b[0m \u001b[0;34m=\u001b[0m \u001b[0mself\u001b[0m\u001b[0;34m.\u001b[0m\u001b[0m_slow_forward\u001b[0m\u001b[0;34m(\u001b[0m\u001b[0;34m*\u001b[0m\u001b[0minput\u001b[0m\u001b[0;34m,\u001b[0m \u001b[0;34m**\u001b[0m\u001b[0mkwargs\u001b[0m\u001b[0;34m)\u001b[0m\u001b[0;34m\u001b[0m\u001b[0;34m\u001b[0m\u001b[0m\n\u001b[1;32m    726\u001b[0m         \u001b[0;32melse\u001b[0m\u001b[0;34m:\u001b[0m\u001b[0;34m\u001b[0m\u001b[0;34m\u001b[0m\u001b[0m\n\u001b[0;32m--> 727\u001b[0;31m             \u001b[0mresult\u001b[0m \u001b[0;34m=\u001b[0m \u001b[0mself\u001b[0m\u001b[0;34m.\u001b[0m\u001b[0mforward\u001b[0m\u001b[0;34m(\u001b[0m\u001b[0;34m*\u001b[0m\u001b[0minput\u001b[0m\u001b[0;34m,\u001b[0m \u001b[0;34m**\u001b[0m\u001b[0mkwargs\u001b[0m\u001b[0;34m)\u001b[0m\u001b[0;34m\u001b[0m\u001b[0;34m\u001b[0m\u001b[0m\n\u001b[0m\u001b[1;32m    728\u001b[0m         for hook in itertools.chain(\n\u001b[1;32m    729\u001b[0m                 \u001b[0m_global_forward_hooks\u001b[0m\u001b[0;34m.\u001b[0m\u001b[0mvalues\u001b[0m\u001b[0;34m(\u001b[0m\u001b[0;34m)\u001b[0m\u001b[0;34m,\u001b[0m\u001b[0;34m\u001b[0m\u001b[0;34m\u001b[0m\u001b[0m\n",
      "\u001b[0;32m~/github/adtp/ScaledYOLOv4/models/common.py\u001b[0m in \u001b[0;36mforward\u001b[0;34m(self, x)\u001b[0m\n\u001b[1;32m    167\u001b[0m \u001b[0;34m\u001b[0m\u001b[0m\n\u001b[1;32m    168\u001b[0m     \u001b[0;32mdef\u001b[0m \u001b[0mforward\u001b[0m\u001b[0;34m(\u001b[0m\u001b[0mself\u001b[0m\u001b[0;34m,\u001b[0m \u001b[0mx\u001b[0m\u001b[0;34m)\u001b[0m\u001b[0;34m:\u001b[0m\u001b[0;34m\u001b[0m\u001b[0;34m\u001b[0m\u001b[0m\n\u001b[0;32m--> 169\u001b[0;31m         \u001b[0;32mreturn\u001b[0m \u001b[0mtorch\u001b[0m\u001b[0;34m.\u001b[0m\u001b[0mcat\u001b[0m\u001b[0;34m(\u001b[0m\u001b[0mx\u001b[0m\u001b[0;34m,\u001b[0m \u001b[0mself\u001b[0m\u001b[0;34m.\u001b[0m\u001b[0md\u001b[0m\u001b[0;34m)\u001b[0m\u001b[0;34m\u001b[0m\u001b[0;34m\u001b[0m\u001b[0m\n\u001b[0m\u001b[1;32m    170\u001b[0m \u001b[0;34m\u001b[0m\u001b[0m\n\u001b[1;32m    171\u001b[0m \u001b[0;34m\u001b[0m\u001b[0m\n",
      "\u001b[0;31mRuntimeError\u001b[0m: Sizes of tensors must match except in dimension 2. Got 14 and 13 (The offending index is 0)"
     ]
    }
   ],
   "source": [
    "pred = net(img_test.to(device))"
   ]
  },
  {
   "cell_type": "code",
   "execution_count": null,
   "id": "eastern-argument",
   "metadata": {
    "scrolled": true
   },
   "outputs": [],
   "source": [
    "pred[0].shape"
   ]
  },
  {
   "cell_type": "code",
   "execution_count": null,
   "id": "academic-gentleman",
   "metadata": {
    "scrolled": true
   },
   "outputs": [],
   "source": [
    "torch.argmax(pred[0][:, :, 5:], dim=2)"
   ]
  }
 ],
 "metadata": {
  "kernelspec": {
   "display_name": "Python 3",
   "language": "python",
   "name": "python3"
  },
  "language_info": {
   "codemirror_mode": {
    "name": "ipython",
    "version": 3
   },
   "file_extension": ".py",
   "mimetype": "text/x-python",
   "name": "python",
   "nbconvert_exporter": "python",
   "pygments_lexer": "ipython3",
   "version": "3.8.5"
  }
 },
 "nbformat": 4,
 "nbformat_minor": 5
}
