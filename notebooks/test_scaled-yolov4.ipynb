{
 "cells": [
  {
   "cell_type": "code",
   "execution_count": 1,
   "id": "spatial-georgia",
   "metadata": {},
   "outputs": [],
   "source": [
    "import torch\n",
    "import sys\n",
    "import os\n",
    "from torchvision.datasets.folder import pil_loader\n",
    "from torchvision.transforms import Normalize, Compose, RandomHorizontalFlip, RandomRotation, Resize, ToTensor, ToPILImage\n",
    "import matplotlib.pyplot as plt\n",
    "import numpy as np\n",
    "import cv2"
   ]
  },
  {
   "cell_type": "code",
   "execution_count": 2,
   "id": "organizational-parade",
   "metadata": {},
   "outputs": [],
   "source": [
    "device = torch.device('cuda')"
   ]
  },
  {
   "cell_type": "code",
   "execution_count": 3,
   "id": "vertical-romantic",
   "metadata": {},
   "outputs": [
    {
     "data": {
      "text/plain": [
       "device(type='cuda')"
      ]
     },
     "execution_count": 3,
     "metadata": {},
     "output_type": "execute_result"
    }
   ],
   "source": [
    "device"
   ]
  },
  {
   "cell_type": "code",
   "execution_count": 6,
   "id": "minute-edmonton",
   "metadata": {},
   "outputs": [],
   "source": [
    "path = os.path.abspath(os.path.join('..'))"
   ]
  },
  {
   "cell_type": "code",
   "execution_count": null,
   "id": "legendary-notebook",
   "metadata": {},
   "outputs": [],
   "source": []
  },
  {
   "cell_type": "code",
   "execution_count": 5,
   "id": "emotional-running",
   "metadata": {},
   "outputs": [],
   "source": [
    "if path not in sys.path:\n",
    "    sys.path.append(path+\"/mish_cuda/\")"
   ]
  },
  {
   "cell_type": "code",
   "execution_count": 6,
   "id": "geographic-tension",
   "metadata": {},
   "outputs": [],
   "source": [
    "from mish_cuda.mish import MishCuda"
   ]
  },
  {
   "cell_type": "code",
   "execution_count": 10,
   "id": "settled-british",
   "metadata": {},
   "outputs": [],
   "source": [
    "if path not in sys.path:\n",
    "    sys.path.append(path)"
   ]
  },
  {
   "cell_type": "code",
   "execution_count": 11,
   "id": "noble-alignment",
   "metadata": {},
   "outputs": [
    {
     "data": {
      "text/plain": [
       "['/home/mikael/ScaledYOLOv4/notebooks',\n",
       " '/home/mikael/anaconda3/envs/yolov4/lib/python38.zip',\n",
       " '/home/mikael/anaconda3/envs/yolov4/lib/python3.8',\n",
       " '/home/mikael/anaconda3/envs/yolov4/lib/python3.8/lib-dynload',\n",
       " '',\n",
       " '/home/mikael/anaconda3/envs/yolov4/lib/python3.8/site-packages',\n",
       " '/home/mikael/anaconda3/envs/yolov4/lib/python3.8/site-packages/IPython/extensions',\n",
       " '/home/mikael/.ipython',\n",
       " '/home/mikael/ScaledYOLOv4/ScaledYOLOv4/',\n",
       " '/home/mikael/ScaledYOLOv4']"
      ]
     },
     "execution_count": 11,
     "metadata": {},
     "output_type": "execute_result"
    }
   ],
   "source": [
    "sys.path"
   ]
  },
  {
   "cell_type": "code",
   "execution_count": 12,
   "id": "involved-contributor",
   "metadata": {},
   "outputs": [],
   "source": [
    "import models"
   ]
  },
  {
   "cell_type": "markdown",
   "id": "insured-showcase",
   "metadata": {},
   "source": [
    "### Turn model checkpoint into state_dict\n",
    "useful to use our Mish instead of MishCuda"
   ]
  },
  {
   "cell_type": "code",
   "execution_count": 10,
   "id": "institutional-narrow",
   "metadata": {},
   "outputs": [],
   "source": [
    "save_scaled = torch.load('yolov4-p5.pt', map_location=device)"
   ]
  },
  {
   "cell_type": "code",
   "execution_count": 11,
   "id": "cosmetic-seafood",
   "metadata": {},
   "outputs": [],
   "source": [
    "weight_scaled = save_scaled['model'].state_dict()"
   ]
  },
  {
   "cell_type": "code",
   "execution_count": 13,
   "id": "quality-sucking",
   "metadata": {},
   "outputs": [],
   "source": [
    "torch.save(weight_scaled, 'yolov4-p5.pth')"
   ]
  },
  {
   "cell_type": "code",
   "execution_count": 14,
   "id": "hourly-footwear",
   "metadata": {},
   "outputs": [],
   "source": [
    "weights_scaled_load = torch.load('yolov4-p5.pth')"
   ]
  },
  {
   "cell_type": "code",
   "execution_count": 15,
   "id": "dedicated-lighting",
   "metadata": {},
   "outputs": [
    {
     "data": {
      "text/plain": [
       "<All keys matched successfully>"
      ]
     },
     "execution_count": 15,
     "metadata": {},
     "output_type": "execute_result"
    }
   ],
   "source": [
    "save_scaled['model'].load_state_dict(weights_scaled_load)"
   ]
  },
  {
   "cell_type": "code",
   "execution_count": null,
   "id": "facial-small",
   "metadata": {},
   "outputs": [],
   "source": []
  },
  {
   "cell_type": "markdown",
   "id": "legitimate-transsexual",
   "metadata": {},
   "source": [
    "## Load model"
   ]
  },
  {
   "cell_type": "code",
   "execution_count": 13,
   "id": "ranging-buddy",
   "metadata": {},
   "outputs": [],
   "source": [
    "from models.yolo import Model"
   ]
  },
  {
   "cell_type": "code",
   "execution_count": 15,
   "id": "sensitive-brazilian",
   "metadata": {},
   "outputs": [
    {
     "name": "stdout",
     "output_type": "stream",
     "text": [
      "\n",
      "                 from  n    params  module                                  arguments                     \n",
      "  0                -1  1       928  models.common.Conv                      [3, 32, 3, 1]                 \n",
      "  1                -1  1     18560  models.common.Conv                      [32, 64, 3, 2]                \n",
      "  2                -1  1     19904  models.common.BottleneckCSP             [64, 64, 1]                   \n",
      "  3                -1  1     73984  models.common.Conv                      [64, 128, 3, 2]               \n",
      "  4                -1  1    161152  models.common.BottleneckCSP             [128, 128, 3]                 \n",
      "  5                -1  1    295424  models.common.Conv                      [128, 256, 3, 2]              \n",
      "  6                -1  1   2614016  models.common.BottleneckCSP             [256, 256, 15]                \n",
      "  7                -1  1   1180672  models.common.Conv                      [256, 512, 3, 2]              \n",
      "  8                -1  1  10438144  models.common.BottleneckCSP             [512, 512, 15]                \n",
      "  9                -1  1   4720640  models.common.Conv                      [512, 1024, 3, 2]             \n",
      " 10                -1  1  20728832  models.common.BottleneckCSP             [1024, 1024, 7]               \n",
      " 11                -1  1   7610368  models.common.SPPCSP                    [1024, 512, 1]                \n",
      " 12                -1  1    131584  models.common.Conv                      [512, 256, 1, 1]              \n",
      " 13                -1  1         0  torch.nn.modules.upsampling.Upsample    [None, 2, 'nearest']          \n",
      " 14                 8  1    131584  models.common.Conv                      [512, 256, 1, 1]              \n",
      " 15          [-1, -2]  1         0  models.common.Concat                    [1]                           \n",
      " 16                -1  1   2298880  models.common.BottleneckCSP2            [512, 256, 3]                 \n",
      " 17                -1  1     33024  models.common.Conv                      [256, 128, 1, 1]              \n",
      " 18                -1  1         0  torch.nn.modules.upsampling.Upsample    [None, 2, 'nearest']          \n",
      " 19                 6  1     33024  models.common.Conv                      [256, 128, 1, 1]              \n",
      " 20          [-1, -2]  1         0  models.common.Concat                    [1]                           \n",
      " 21                -1  1    576000  models.common.BottleneckCSP2            [256, 128, 3]                 \n",
      " 22                -1  1    295424  models.common.Conv                      [128, 256, 3, 1]              \n",
      " 23                -2  1    295424  models.common.Conv                      [128, 256, 3, 2]              \n",
      " 24          [-1, 16]  1         0  models.common.Concat                    [1]                           \n",
      " 25                -1  1   2298880  models.common.BottleneckCSP2            [512, 256, 3]                 \n",
      " 26                -1  1   1180672  models.common.Conv                      [256, 512, 3, 1]              \n",
      " 27                -2  1   1180672  models.common.Conv                      [256, 512, 3, 2]              \n",
      " 28          [-1, 11]  1         0  models.common.Concat                    [1]                           \n",
      " 29                -1  1   9185280  models.common.BottleneckCSP2            [1024, 512, 3]                \n",
      " 30                -1  1   4720640  models.common.Conv                      [512, 1024, 3, 1]             \n",
      " 31      [22, 26, 30]  1    610300  models.yolo.Detect                      [80, [[13, 17, 31, 25, 24, 51, 61, 45], [48, 102, 119, 96, 97, 189, 217, 184], [171, 384, 324, 451, 616, 618, 800, 800]], [256, 512, 1024]]\n",
      "Model Summary: 476 layers, 7.0834e+07 parameters, 7.0834e+07 gradients\n",
      "\n"
     ]
    }
   ],
   "source": [
    "net = Model(cfg='../models/yolov4-p5.yaml', ch=3, nc=80)"
   ]
  },
  {
   "cell_type": "code",
   "execution_count": 16,
   "id": "modern-doctor",
   "metadata": {},
   "outputs": [],
   "source": [
    "weights_scaled = torch.load('../weights/yolov4-p5.pth')"
   ]
  },
  {
   "cell_type": "code",
   "execution_count": 17,
   "id": "adjusted-december",
   "metadata": {},
   "outputs": [
    {
     "data": {
      "text/plain": [
       "<All keys matched successfully>"
      ]
     },
     "execution_count": 17,
     "metadata": {},
     "output_type": "execute_result"
    }
   ],
   "source": [
    "net.load_state_dict(weights_scaled)"
   ]
  },
  {
   "cell_type": "code",
   "execution_count": null,
   "id": "indie-living",
   "metadata": {},
   "outputs": [],
   "source": []
  },
  {
   "cell_type": "markdown",
   "id": "fundamental-supervisor",
   "metadata": {},
   "source": [
    "## Experiment inference"
   ]
  },
  {
   "cell_type": "code",
   "execution_count": 19,
   "id": "united-craft",
   "metadata": {},
   "outputs": [],
   "source": [
    "net.to(device)\n",
    "net.eval();"
   ]
  },
  {
   "cell_type": "code",
   "execution_count": 18,
   "id": "several-glasgow",
   "metadata": {},
   "outputs": [],
   "source": [
    "# img_test = ToTensor()(Resize((416, 416))(pil_loader('bradley-cooper.png'))).unsqueeze_(0)\n",
    "# img_test = ToTensor()(Resize((800, 1280))(pil_loader('street.jpg'))).unsqueeze_(0)\n",
    "img_test = ToTensor()(Resize((416, 416))(pil_loader('../../YoloV4/street2.jpg'))).unsqueeze_(0)"
   ]
  },
  {
   "cell_type": "code",
   "execution_count": 22,
   "id": "comparable-conditioning",
   "metadata": {},
   "outputs": [],
   "source": [
    "pred = net(img_test.to(device))"
   ]
  },
  {
   "cell_type": "code",
   "execution_count": 24,
   "id": "smoking-niagara",
   "metadata": {
    "scrolled": true
   },
   "outputs": [
    {
     "data": {
      "text/plain": [
       "torch.Size([1, 14196, 85])"
      ]
     },
     "execution_count": 24,
     "metadata": {},
     "output_type": "execute_result"
    }
   ],
   "source": [
    "pred[0].shape"
   ]
  },
  {
   "cell_type": "code",
   "execution_count": 31,
   "id": "missing-banks",
   "metadata": {
    "scrolled": true
   },
   "outputs": [
    {
     "data": {
      "text/plain": [
       "tensor([[74, 74, 74,  ...,  0,  0, 60]], device='cuda:0')"
      ]
     },
     "execution_count": 31,
     "metadata": {},
     "output_type": "execute_result"
    }
   ],
   "source": [
    "torch.argmax(pred[0][:, :, 5:], dim=2)"
   ]
  }
 ],
 "metadata": {
  "kernelspec": {
   "display_name": "Python 3",
   "language": "python",
   "name": "python3"
  },
  "language_info": {
   "codemirror_mode": {
    "name": "ipython",
    "version": 3
   },
   "file_extension": ".py",
   "mimetype": "text/x-python",
   "name": "python",
   "nbconvert_exporter": "python",
   "pygments_lexer": "ipython3",
   "version": "3.8.8"
  }
 },
 "nbformat": 4,
 "nbformat_minor": 5
}
