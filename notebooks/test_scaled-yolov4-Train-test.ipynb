{
 "cells": [
  {
   "cell_type": "code",
   "execution_count": 1,
   "id": "proved-cassette",
   "metadata": {},
   "outputs": [],
   "source": [
    "import torch\n",
    "import sys\n",
    "import os\n",
    "from torchvision.datasets.folder import pil_loader\n",
    "from torchvision.transforms import Normalize, Compose, RandomHorizontalFlip, RandomRotation, Resize, ToTensor, ToPILImage\n",
    "import matplotlib.pyplot as plt\n",
    "import numpy as np\n",
    "import cv2"
   ]
  },
  {
   "cell_type": "code",
   "execution_count": 2,
   "id": "wired-billion",
   "metadata": {},
   "outputs": [],
   "source": [
    "device = torch.device('cuda')"
   ]
  },
  {
   "cell_type": "code",
   "execution_count": 3,
   "id": "naughty-swift",
   "metadata": {},
   "outputs": [
    {
     "data": {
      "text/plain": [
       "device(type='cuda')"
      ]
     },
     "execution_count": 3,
     "metadata": {},
     "output_type": "execute_result"
    }
   ],
   "source": [
    "device"
   ]
  },
  {
   "cell_type": "code",
   "execution_count": 4,
   "id": "greek-plane",
   "metadata": {},
   "outputs": [],
   "source": [
    "path = os.path.abspath(os.path.join('..'))"
   ]
  },
  {
   "cell_type": "code",
   "execution_count": null,
   "id": "ambient-stone",
   "metadata": {},
   "outputs": [],
   "source": []
  },
  {
   "cell_type": "code",
   "execution_count": 5,
   "id": "palestinian-brook",
   "metadata": {},
   "outputs": [],
   "source": [
    "if path not in sys.path:\n",
    "    sys.path.append(path+\"/mish_cuda/\")"
   ]
  },
  {
   "cell_type": "code",
   "execution_count": 6,
   "id": "collaborative-inflation",
   "metadata": {},
   "outputs": [],
   "source": [
    "from mish_cuda.mish import MishCuda"
   ]
  },
  {
   "cell_type": "code",
   "execution_count": 7,
   "id": "christian-speed",
   "metadata": {},
   "outputs": [],
   "source": [
    "if path not in sys.path:\n",
    "    sys.path.append(path)"
   ]
  },
  {
   "cell_type": "code",
   "execution_count": 8,
   "id": "unlike-channel",
   "metadata": {
    "scrolled": true
   },
   "outputs": [
    {
     "data": {
      "text/plain": [
       "['/home/adtp/github/adtp/ScaledYOLOv4/notebooks',\n",
       " '/home/adtp/anaconda3/envs/deeplearningaz/lib/python38.zip',\n",
       " '/home/adtp/anaconda3/envs/deeplearningaz/lib/python3.8',\n",
       " '/home/adtp/anaconda3/envs/deeplearningaz/lib/python3.8/lib-dynload',\n",
       " '',\n",
       " '/home/adtp/anaconda3/envs/deeplearningaz/lib/python3.8/site-packages',\n",
       " '/home/adtp/anaconda3/envs/deeplearningaz/lib/python3.8/site-packages/locket-0.2.1-py3.8.egg',\n",
       " '/home/adtp/anaconda3/envs/deeplearningaz/lib/python3.8/site-packages/IPython/extensions',\n",
       " '/home/adtp/.ipython',\n",
       " '/home/adtp/github/adtp/ScaledYOLOv4/mish_cuda/',\n",
       " '/home/adtp/github/adtp/ScaledYOLOv4']"
      ]
     },
     "execution_count": 8,
     "metadata": {},
     "output_type": "execute_result"
    }
   ],
   "source": [
    "sys.path"
   ]
  },
  {
   "cell_type": "code",
   "execution_count": 9,
   "id": "delayed-scratch",
   "metadata": {},
   "outputs": [],
   "source": [
    "import models"
   ]
  },
  {
   "cell_type": "markdown",
   "id": "transparent-commerce",
   "metadata": {},
   "source": [
    "### Turn model checkpoint into state_dict\n",
    "useful to use our Mish instead of MishCuda"
   ]
  },
  {
   "cell_type": "code",
   "execution_count": 10,
   "id": "facial-portsmouth",
   "metadata": {},
   "outputs": [],
   "source": [
    "save_scaled = torch.load('best_2piece_equilibree.pt', map_location=device)"
   ]
  },
  {
   "cell_type": "code",
   "execution_count": 11,
   "id": "involved-stupid",
   "metadata": {},
   "outputs": [],
   "source": [
    "weight_scaled = save_scaled['model'].state_dict()"
   ]
  },
  {
   "cell_type": "code",
   "execution_count": 12,
   "id": "clinical-bread",
   "metadata": {},
   "outputs": [],
   "source": [
    "torch.save(weight_scaled, 'best_2piece_equilibree.pth')"
   ]
  },
  {
   "cell_type": "code",
   "execution_count": null,
   "id": "welsh-settle",
   "metadata": {},
   "outputs": [],
   "source": [
    "weights_scaled_load = torch.load('best.pth')"
   ]
  },
  {
   "cell_type": "code",
   "execution_count": null,
   "id": "urban-coast",
   "metadata": {},
   "outputs": [],
   "source": [
    "save_scaled['model'].load_state_dict(weights_scaled_load)"
   ]
  },
  {
   "cell_type": "code",
   "execution_count": null,
   "id": "wrapped-therapy",
   "metadata": {},
   "outputs": [],
   "source": [
    "python detect.py --weights ../weights/yolov4-p7.pth --cfg data/coco.yaml --source ../person.jpg"
   ]
  },
  {
   "cell_type": "code",
   "execution_count": null,
   "id": "rocky-brake",
   "metadata": {},
   "outputs": [],
   "source": []
  },
  {
   "cell_type": "markdown",
   "id": "excited-effectiveness",
   "metadata": {},
   "source": [
    "## Load model"
   ]
  },
  {
   "cell_type": "code",
   "execution_count": null,
   "id": "plastic-tucson",
   "metadata": {},
   "outputs": [],
   "source": [
    "from models.yolo import Model"
   ]
  },
  {
   "cell_type": "code",
   "execution_count": null,
   "id": "charged-beads",
   "metadata": {},
   "outputs": [],
   "source": [
    "net = Model(cfg='../models/yolov4-csp.yaml', ch=3, nc=80)"
   ]
  },
  {
   "cell_type": "code",
   "execution_count": null,
   "id": "similar-tactics",
   "metadata": {},
   "outputs": [],
   "source": [
    "weights_scaled = torch.load('/home/adtp/github/adtp/weights/Trainings/Must/best_New_data_1_2.pth')"
   ]
  },
  {
   "cell_type": "code",
   "execution_count": null,
   "id": "pleased-tenant",
   "metadata": {},
   "outputs": [],
   "source": [
    "net.load_state_dict(weights_scaled)"
   ]
  },
  {
   "cell_type": "code",
   "execution_count": null,
   "id": "young-africa",
   "metadata": {},
   "outputs": [],
   "source": []
  },
  {
   "cell_type": "markdown",
   "id": "civilian-context",
   "metadata": {},
   "source": [
    "## Experiment inference"
   ]
  },
  {
   "cell_type": "code",
   "execution_count": null,
   "id": "impaired-cyprus",
   "metadata": {},
   "outputs": [],
   "source": [
    "net.to(device)\n",
    "net.eval();"
   ]
  },
  {
   "cell_type": "code",
   "execution_count": null,
   "id": "equipped-retention",
   "metadata": {},
   "outputs": [],
   "source": [
    "# img_test = ToTensor()(Resize((416, 416))(pil_loader('bradley-cooper.png'))).unsqueeze_(0)\n",
    "# img_test = ToTensor()(Resize((800, 1280))(pil_loader('street.jpg'))).unsqueeze_(0)\n",
    "img_test = ToTensor()(Resize((640, 640))(pil_loader('/home/adtp/github/adtp/street.jpg'))).unsqueeze_(0)"
   ]
  },
  {
   "cell_type": "code",
   "execution_count": null,
   "id": "departmental-london",
   "metadata": {
    "scrolled": true
   },
   "outputs": [],
   "source": [
    "pred = net(img_test.to(device))"
   ]
  },
  {
   "cell_type": "code",
   "execution_count": null,
   "id": "eastern-argument",
   "metadata": {
    "scrolled": true
   },
   "outputs": [],
   "source": [
    "pred[0].shape"
   ]
  },
  {
   "cell_type": "code",
   "execution_count": null,
   "id": "academic-gentleman",
   "metadata": {
    "scrolled": true
   },
   "outputs": [],
   "source": [
    "torch.argmax(pred[0][:, :, 5:], dim=2)"
   ]
  },
  {
   "cell_type": "code",
   "execution_count": null,
   "id": "personal-costa",
   "metadata": {},
   "outputs": [],
   "source": []
  },
  {
   "cell_type": "code",
   "execution_count": null,
   "id": "pacific-romantic",
   "metadata": {},
   "outputs": [],
   "source": [
    "with torch.no_grad():\n",
    "    outputs = net(images)\n",
    "predicted = torch.argmax(outputs, 1)"
   ]
  },
  {
   "cell_type": "code",
   "execution_count": null,
   "id": "behind-august",
   "metadata": {},
   "outputs": [],
   "source": []
  }
 ],
 "metadata": {
  "kernelspec": {
   "display_name": "Python 3",
   "language": "python",
   "name": "python3"
  },
  "language_info": {
   "codemirror_mode": {
    "name": "ipython",
    "version": 3
   },
   "file_extension": ".py",
   "mimetype": "text/x-python",
   "name": "python",
   "nbconvert_exporter": "python",
   "pygments_lexer": "ipython3",
   "version": "3.8.5"
  }
 },
 "nbformat": 4,
 "nbformat_minor": 5
}
