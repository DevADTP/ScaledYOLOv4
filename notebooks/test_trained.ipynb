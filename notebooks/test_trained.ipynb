{
 "cells": [
  {
   "cell_type": "code",
   "execution_count": 7,
   "id": "proved-cassette",
   "metadata": {},
   "outputs": [],
   "source": [
    "import torch\n",
    "import sys\n",
    "import os\n",
    "from torchvision.datasets.folder import pil_loader\n",
    "from torchvision.transforms import Normalize, Compose, RandomHorizontalFlip, RandomRotation, Resize, ToTensor, ToPILImage\n",
    "import matplotlib.pyplot as plt\n",
    "import numpy as np\n",
    "import cv2"
   ]
  },
  {
   "cell_type": "code",
   "execution_count": 8,
   "id": "wired-billion",
   "metadata": {},
   "outputs": [],
   "source": [
    "device = torch.device('cuda')"
   ]
  },
  {
   "cell_type": "code",
   "execution_count": 9,
   "id": "naughty-swift",
   "metadata": {},
   "outputs": [
    {
     "data": {
      "text/plain": [
       "device(type='cuda')"
      ]
     },
     "execution_count": 9,
     "metadata": {},
     "output_type": "execute_result"
    }
   ],
   "source": [
    "device"
   ]
  },
  {
   "cell_type": "code",
   "execution_count": 10,
   "id": "parliamentary-aquatic",
   "metadata": {},
   "outputs": [],
   "source": [
    "path = os.path.abspath(os.path.join('..'))"
   ]
  },
  {
   "cell_type": "code",
   "execution_count": 11,
   "id": "blocked-roulette",
   "metadata": {},
   "outputs": [],
   "source": [
    "if path not in sys.path:\n",
    "    sys.path.append(path+\"/mish_cuda/\")"
   ]
  },
  {
   "cell_type": "code",
   "execution_count": null,
   "id": "opposite-relation",
   "metadata": {},
   "outputs": [],
   "source": []
  },
  {
   "cell_type": "code",
   "execution_count": 12,
   "id": "collaborative-inflation",
   "metadata": {},
   "outputs": [],
   "source": [
    "from mish_cuda.mish import MishCuda"
   ]
  },
  {
   "cell_type": "code",
   "execution_count": 13,
   "id": "spare-delivery",
   "metadata": {},
   "outputs": [],
   "source": [
    "if path not in sys.path:\n",
    "    sys.path.append(path)"
   ]
  },
  {
   "cell_type": "code",
   "execution_count": 14,
   "id": "european-health",
   "metadata": {},
   "outputs": [
    {
     "data": {
      "text/plain": [
       "['/home/adtp/github/adtp/ScaledYOLOv4/notebooks',\n",
       " '/home/adtp/anaconda3/envs/deeplearningaz/lib/python38.zip',\n",
       " '/home/adtp/anaconda3/envs/deeplearningaz/lib/python3.8',\n",
       " '/home/adtp/anaconda3/envs/deeplearningaz/lib/python3.8/lib-dynload',\n",
       " '',\n",
       " '/home/adtp/anaconda3/envs/deeplearningaz/lib/python3.8/site-packages',\n",
       " '/home/adtp/anaconda3/envs/deeplearningaz/lib/python3.8/site-packages/locket-0.2.1-py3.8.egg',\n",
       " '/home/adtp/anaconda3/envs/deeplearningaz/lib/python3.8/site-packages/IPython/extensions',\n",
       " '/home/adtp/.ipython',\n",
       " '/home/adtp/github/adtp/ScaledYOLOv4/mish_cuda/',\n",
       " '/home/adtp/github/adtp/ScaledYOLOv4/mish_cuda/',\n",
       " '/home/adtp/github/adtp/ScaledYOLOv4']"
      ]
     },
     "execution_count": 14,
     "metadata": {},
     "output_type": "execute_result"
    }
   ],
   "source": [
    "sys.path"
   ]
  },
  {
   "cell_type": "code",
   "execution_count": 15,
   "id": "delayed-scratch",
   "metadata": {},
   "outputs": [],
   "source": [
    "device = torch.device('cuda')"
   ]
  },
  {
   "cell_type": "markdown",
   "id": "excited-effectiveness",
   "metadata": {},
   "source": [
    "## Load model"
   ]
  },
  {
   "cell_type": "code",
   "execution_count": 16,
   "id": "plastic-tucson",
   "metadata": {},
   "outputs": [],
   "source": [
    "from models.yolo import Model"
   ]
  },
  {
   "cell_type": "code",
   "execution_count": 17,
   "id": "charged-beads",
   "metadata": {},
   "outputs": [
    {
     "name": "stdout",
     "output_type": "stream",
     "text": [
      "\n",
      "                 from  n    params  module                                  arguments                     \n",
      "  0                -1  1       928  models.common.Conv                      [3, 32, 3, 1]                 \n",
      "  1                -1  1     18560  models.common.Conv                      [32, 64, 3, 2]                \n",
      "  2                -1  1     20672  models.common.Bottleneck                [64, 64]                      \n",
      "  3                -1  1     73984  models.common.Conv                      [64, 128, 3, 2]               \n",
      "  4                -1  1    119936  models.common.BottleneckCSP             [128, 128, 2]                 \n",
      "  5                -1  1    295424  models.common.Conv                      [128, 256, 3, 2]              \n",
      "  6                -1  1   1463552  models.common.BottleneckCSP             [256, 256, 8]                 \n",
      "  7                -1  1   1180672  models.common.Conv                      [256, 512, 3, 2]              \n",
      "  8                -1  1   5843456  models.common.BottleneckCSP             [512, 512, 8]                 \n",
      "  9                -1  1   4720640  models.common.Conv                      [512, 1024, 3, 2]             \n",
      " 10                -1  1  12858368  models.common.BottleneckCSP             [1024, 1024, 4]               \n",
      " 11                -1  1   7610368  models.common.SPPCSP                    [1024, 512, 1]                \n",
      " 12                -1  1    131584  models.common.Conv                      [512, 256, 1, 1]              \n",
      " 13                -1  1         0  torch.nn.modules.upsampling.Upsample    [None, 2, 'nearest']          \n",
      " 14                 8  1    131584  models.common.Conv                      [512, 256, 1, 1]              \n",
      " 15          [-1, -2]  1         0  models.common.Concat                    [1]                           \n",
      " 16                -1  1   1642496  models.common.BottleneckCSP2            [512, 256, 2]                 \n",
      " 17                -1  1     33024  models.common.Conv                      [256, 128, 1, 1]              \n",
      " 18                -1  1         0  torch.nn.modules.upsampling.Upsample    [None, 2, 'nearest']          \n",
      " 19                 6  1     33024  models.common.Conv                      [256, 128, 1, 1]              \n",
      " 20          [-1, -2]  1         0  models.common.Concat                    [1]                           \n",
      " 21                -1  1    411648  models.common.BottleneckCSP2            [256, 128, 2]                 \n",
      " 22                -1  1    295424  models.common.Conv                      [128, 256, 3, 1]              \n",
      " 23                -2  1    295424  models.common.Conv                      [128, 256, 3, 2]              \n",
      " 24          [-1, 16]  1         0  models.common.Concat                    [1]                           \n",
      " 25                -1  1   1642496  models.common.BottleneckCSP2            [512, 256, 2]                 \n",
      " 26                -1  1   1180672  models.common.Conv                      [256, 512, 3, 1]              \n",
      " 27                -2  1   1180672  models.common.Conv                      [256, 512, 3, 2]              \n",
      " 28          [-1, 11]  1         0  models.common.Concat                    [1]                           \n",
      " 29                -1  1   6561792  models.common.BottleneckCSP2            [1024, 512, 2]                \n",
      " 30                -1  1   4720640  models.common.Conv                      [512, 1024, 3, 1]             \n",
      " 31      [22, 26, 30]  1     53850  models.yolo.Detect                      [5, [[12, 16, 19, 36, 40, 28], [36, 75, 76, 55, 72, 146], [142, 110, 192, 243, 459, 401]], [256, 512, 1024]]\n",
      "Model Summary: 334 layers, 5.25209e+07 parameters, 5.25209e+07 gradients\n",
      "\n"
     ]
    }
   ],
   "source": [
    "net = Model(cfg='../models/yolov4-csp.yaml', ch=3, nc=5)"
   ]
  },
  {
   "cell_type": "code",
   "execution_count": 18,
   "id": "similar-tactics",
   "metadata": {},
   "outputs": [],
   "source": [
    "weights_scaled = torch.load('/home/adtp/github/adtp/weights/Trainings/Must/exp3_best_New_data.pth')"
   ]
  },
  {
   "cell_type": "code",
   "execution_count": 19,
   "id": "pleased-tenant",
   "metadata": {},
   "outputs": [
    {
     "data": {
      "text/plain": [
       "<All keys matched successfully>"
      ]
     },
     "execution_count": 19,
     "metadata": {},
     "output_type": "execute_result"
    }
   ],
   "source": [
    "net.load_state_dict(weights_scaled)"
   ]
  },
  {
   "cell_type": "code",
   "execution_count": null,
   "id": "young-africa",
   "metadata": {},
   "outputs": [],
   "source": []
  },
  {
   "cell_type": "markdown",
   "id": "civilian-context",
   "metadata": {},
   "source": [
    "## Experiment inference"
   ]
  },
  {
   "cell_type": "code",
   "execution_count": null,
   "id": "falling-cutting",
   "metadata": {},
   "outputs": [],
   "source": []
  },
  {
   "cell_type": "code",
   "execution_count": 20,
   "id": "impaired-cyprus",
   "metadata": {},
   "outputs": [],
   "source": [
    "net.to(device)\n",
    "net.eval();"
   ]
  },
  {
   "cell_type": "code",
   "execution_count": 21,
   "id": "equipped-retention",
   "metadata": {},
   "outputs": [],
   "source": [
    "# img_test = ToTensor()(Resize((416, 416))(pil_loader('bradley-cooper.png'))).unsqueeze_(0)\n",
    "# img_test = ToTensor()(Resize((800, 1280))(pil_loader('street.jpg'))).unsqueeze_(0)\n",
    "img_test = ToTensor()(Resize((640, 640))(pil_loader('/home/adtp/2.jpeg'))).unsqueeze_(0)"
   ]
  },
  {
   "cell_type": "code",
   "execution_count": 22,
   "id": "floating-removal",
   "metadata": {},
   "outputs": [],
   "source": [
    "pred = net(img_test.to(device))"
   ]
  },
  {
   "cell_type": "code",
   "execution_count": 23,
   "id": "eastern-argument",
   "metadata": {
    "scrolled": true
   },
   "outputs": [
    {
     "data": {
      "text/plain": [
       "torch.Size([1, 25200, 10])"
      ]
     },
     "execution_count": 23,
     "metadata": {},
     "output_type": "execute_result"
    }
   ],
   "source": [
    "pred[0].shape"
   ]
  },
  {
   "cell_type": "code",
   "execution_count": 24,
   "id": "academic-gentleman",
   "metadata": {
    "scrolled": true
   },
   "outputs": [
    {
     "data": {
      "text/plain": [
       "tensor([[4, 4, 4,  ..., 0, 4, 2]], device='cuda:0')"
      ]
     },
     "execution_count": 24,
     "metadata": {},
     "output_type": "execute_result"
    }
   ],
   "source": [
    "torch.argmax(pred[0][:, :, 5:], dim=2)"
   ]
  },
  {
   "cell_type": "code",
   "execution_count": 25,
   "id": "reasonable-first",
   "metadata": {},
   "outputs": [],
   "source": [
    "import yaml \n",
    "with open('/home/adtp/github/adtp/ScaledYOLOv4/data/adtp.yaml') as f:\n",
    "    yaml = yaml.load(f, Loader=yaml.FullLoader)  # model dict\n",
    "names = yaml['names']"
   ]
  },
  {
   "cell_type": "code",
   "execution_count": 26,
   "id": "complete-architecture",
   "metadata": {},
   "outputs": [
    {
     "name": "stdout",
     "output_type": "stream",
     "text": [
      "['Capuchon_Plastique', 'Rondelle', 'vis', 'ecrou_carre', 'ecrou_rond']\n"
     ]
    }
   ],
   "source": [
    "print(names)"
   ]
  },
  {
   "cell_type": "code",
   "execution_count": null,
   "id": "according-anime",
   "metadata": {},
   "outputs": [],
   "source": []
  }
 ],
 "metadata": {
  "kernelspec": {
   "display_name": "Python 3",
   "language": "python",
   "name": "python3"
  },
  "language_info": {
   "codemirror_mode": {
    "name": "ipython",
    "version": 3
   },
   "file_extension": ".py",
   "mimetype": "text/x-python",
   "name": "python",
   "nbconvert_exporter": "python",
   "pygments_lexer": "ipython3",
   "version": "3.8.5"
  }
 },
 "nbformat": 4,
 "nbformat_minor": 5
}
